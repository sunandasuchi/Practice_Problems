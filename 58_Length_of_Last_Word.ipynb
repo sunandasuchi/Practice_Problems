{
  "nbformat": 4,
  "nbformat_minor": 0,
  "metadata": {
    "colab": {
      "name": "58_Length_of_Last_Word.ipynb",
      "provenance": [],
      "authorship_tag": "ABX9TyOuVedQk0s37TBPEl4RqpWb",
      "include_colab_link": true
    },
    "kernelspec": {
      "name": "python3",
      "display_name": "Python 3"
    }
  },
  "cells": [
    {
      "cell_type": "markdown",
      "metadata": {
        "id": "view-in-github",
        "colab_type": "text"
      },
      "source": [
        "<a href=\"https://colab.research.google.com/github/sunandasuchi/Practice_Problems/blob/main/58_Length_of_Last_Word.ipynb\" target=\"_parent\"><img src=\"https://colab.research.google.com/assets/colab-badge.svg\" alt=\"Open In Colab\"/></a>"
      ]
    },
    {
      "cell_type": "markdown",
      "metadata": {
        "id": "ixIjuuxvjW22"
      },
      "source": [
        "## **58. Length of Last Word**\r\n"
      ]
    },
    {
      "cell_type": "markdown",
      "metadata": {
        "id": "eW-R91vDjXDE"
      },
      "source": [
        "Given a string s consists of some words separated by spaces, return the length of the last word in the string. If the last word does not exist, return 0.\r\n",
        "\r\n",
        "A word is a maximal substring consisting of non-space characters only.\r\n",
        "\r\n",
        " \r\n",
        "\r\n",
        "**Example 1:**\r\n",
        "\r\n",
        "Input: s = \"Hello World\"\r\n",
        "Output: 5\r\n",
        "\r\n",
        "**Example 2:**\r\n",
        "\r\n",
        "Input: s = \" \"\r\n",
        "Output: 0\r\n",
        " "
      ]
    },
    {
      "cell_type": "code",
      "metadata": {
        "id": "5xstc2fOjUmK"
      },
      "source": [
        "def lastWordLength(s):\r\n",
        "  word = s.split()\r\n",
        "  if word:\r\n",
        "    return len(word[-1])\r\n",
        "  return 0"
      ],
      "execution_count": 1,
      "outputs": []
    },
    {
      "cell_type": "code",
      "metadata": {
        "colab": {
          "base_uri": "https://localhost:8080/"
        },
        "id": "Jfc6obJcjzWw",
        "outputId": "2a4aea4c-4f13-4b4e-db57-6534e7a47028"
      },
      "source": [
        "print(lastWordLength(\"Rose is  very beautiful           \"))"
      ],
      "execution_count": 5,
      "outputs": [
        {
          "output_type": "stream",
          "text": [
            "9\n"
          ],
          "name": "stdout"
        }
      ]
    }
  ]
}