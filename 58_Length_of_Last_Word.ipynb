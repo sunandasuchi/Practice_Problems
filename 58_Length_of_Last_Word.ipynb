{
  "nbformat": 4,
  "nbformat_minor": 0,
  "metadata": {
    "colab": {
      "name": "58_Length_of_Last_Word.ipynb",
      "provenance": [],
      "authorship_tag": "ABX9TyNebWUoplFcRshJ+lnPDSWY",
      "include_colab_link": true
    },
    "kernelspec": {
      "name": "python3",
      "display_name": "Python 3"
    }
  },
  "cells": [
    {
      "cell_type": "markdown",
      "metadata": {
        "id": "view-in-github",
        "colab_type": "text"
      },
      "source": [
        "<a href=\"https://colab.research.google.com/github/sunandasuchi/Practice_Problems/blob/main/58_Length_of_Last_Word.ipynb\" target=\"_parent\"><img src=\"https://colab.research.google.com/assets/colab-badge.svg\" alt=\"Open In Colab\"/></a>"
      ]
    },
    {
      "cell_type": "markdown",
      "metadata": {
        "id": "ixIjuuxvjW22"
      },
      "source": [
        "## **58. Length of Last Word**\r\n",
        "\r\n"
      ]
    },
    {
      "cell_type": "markdown",
      "metadata": {
        "id": "eW-R91vDjXDE"
      },
      "source": [
        "Given a string s consists of some words separated by spaces, return the length of the last word in the string. If the last word does not exist, return 0.\r\n",
        "\r\n",
        "A word is a maximal substring consisting of non-space characters only.\r\n",
        "\r\n",
        " \r\n",
        "\r\n",
        "**Example 1:**\r\n",
        "\r\n",
        "Input: s = \"Hello World\"\r\n",
        "Output: 5\r\n",
        "\r\n",
        "**Example 2:**\r\n",
        "\r\n",
        "Input: s = \" \"\r\n",
        "Output: 0\r\n",
        " "
      ]
    },
    {
      "cell_type": "markdown",
      "metadata": {
        "id": "OGJg72J32-XB"
      },
      "source": [
        "### **Using Python builtin split() function**\r\n",
        "**Time Complexity: O(n)**\r\n",
        "\r\n",
        "**Space Complexity: O(1) **"
      ]
    },
    {
      "cell_type": "code",
      "metadata": {
        "id": "5xstc2fOjUmK"
      },
      "source": [
        "def lastWordLength(s):\r\n",
        "  \r\n",
        "  word = s.split()\r\n",
        "  print(word)\r\n",
        "  if word:\r\n",
        "    return len(word[-1])\r\n",
        "  return 0\r\n",
        " "
      ],
      "execution_count": 33,
      "outputs": []
    },
    {
      "cell_type": "code",
      "metadata": {
        "colab": {
          "base_uri": "https://localhost:8080/"
        },
        "id": "TkumnJSP1Def",
        "outputId": "bc4ab048-4fca-4e88-b2cb-d5c2c73377a3"
      },
      "source": [
        "print(lastWordLength(\"Roseisverybeautiful1122                            \"))"
      ],
      "execution_count": 36,
      "outputs": [
        {
          "output_type": "stream",
          "text": [
            "['Roseisverybeautiful1122']\n",
            "23\n"
          ],
          "name": "stdout"
        }
      ]
    },
    {
      "cell_type": "markdown",
      "metadata": {
        "id": "31so6YWB1Kzk"
      },
      "source": [
        "### **Without using the split() function of Python**\r\n",
        "\r\n",
        "**Time Complexity: O(n)** as we are using 2 separate while loops\r\n",
        "\r\n",
        "**Space Complexity: O(1)** as we are using 2 valiables"
      ]
    },
    {
      "cell_type": "code",
      "metadata": {
        "id": "BxEMhsVrztTv"
      },
      "source": [
        "def lastWordLength1(s):\r\n",
        "  \r\n",
        "  len_s = len(s)\r\n",
        "  rspc = -1 # assigning last index which will count space after the last word\r\n",
        "  \r\n",
        "  while rspc >= -len_s and s[rspc] == \" \":\r\n",
        "\r\n",
        "    rspc -= 1\r\n",
        "    print(\"rspc\", rspc)\r\n",
        "  llast = rspc \r\n",
        "  \r\n",
        "  while llast >= -len_s and s[llast] != \" \":\r\n",
        "    llast -= 1\r\n",
        "    print(\"llast\", llast)\r\n",
        "    print(\"s[llast]\", s[llast])\r\n",
        "\r\n",
        "  print(\"\\n\\nBefore Returning the Result\")\r\n",
        "  print(\"rspc\", rspc)\r\n",
        "  print(\"llast\", llast)\r\n",
        "  return rspc - llast"
      ],
      "execution_count": 41,
      "outputs": []
    },
    {
      "cell_type": "code",
      "metadata": {
        "colab": {
          "base_uri": "https://localhost:8080/"
        },
        "id": "Jfc6obJcjzWw",
        "outputId": "baf772b5-3fdf-4dcb-c569-bcab9f90b6e0"
      },
      "source": [
        "print(lastWordLength1(\"Rose is  very beautiful1122   \"))"
      ],
      "execution_count": 42,
      "outputs": [
        {
          "output_type": "stream",
          "text": [
            "rspc -2\n",
            "rspc -3\n",
            "rspc -4\n",
            "llast -5\n",
            "s[llast] 2\n",
            "llast -6\n",
            "s[llast] 1\n",
            "llast -7\n",
            "s[llast] 1\n",
            "llast -8\n",
            "s[llast] l\n",
            "llast -9\n",
            "s[llast] u\n",
            "llast -10\n",
            "s[llast] f\n",
            "llast -11\n",
            "s[llast] i\n",
            "llast -12\n",
            "s[llast] t\n",
            "llast -13\n",
            "s[llast] u\n",
            "llast -14\n",
            "s[llast] a\n",
            "llast -15\n",
            "s[llast] e\n",
            "llast -16\n",
            "s[llast] b\n",
            "llast -17\n",
            "s[llast]  \n",
            "\n",
            "\n",
            "Before Returning the Result\n",
            "rspc -4\n",
            "llast -17\n",
            "13\n"
          ],
          "name": "stdout"
        }
      ]
    }
  ]
}