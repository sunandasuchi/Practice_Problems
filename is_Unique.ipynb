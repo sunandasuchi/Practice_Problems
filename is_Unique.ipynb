{
  "nbformat": 4,
  "nbformat_minor": 0,
  "metadata": {
    "colab": {
      "name": "is_Unique.ipynb",
      "provenance": [],
      "authorship_tag": "ABX9TyP/AdyRHCFCSbmQMhfK/Nft",
      "include_colab_link": true
    },
    "kernelspec": {
      "name": "python3",
      "display_name": "Python 3"
    }
  },
  "cells": [
    {
      "cell_type": "markdown",
      "metadata": {
        "id": "view-in-github",
        "colab_type": "text"
      },
      "source": [
        "<a href=\"https://colab.research.google.com/github/sunandasuchi/Practice_Problems/blob/main/is_Unique.ipynb\" target=\"_parent\"><img src=\"https://colab.research.google.com/assets/colab-badge.svg\" alt=\"Open In Colab\"/></a>"
      ]
    },
    {
      "cell_type": "markdown",
      "metadata": {
        "id": "-CpIs2YDVcTj"
      },
      "source": [
        "### **Brute Force technique:**\n",
        "\n",
        "**Time Complexity: O(n^2)** as I am using 2 for loops\n",
        "\n",
        "**Space complexity: O(1)**"
      ]
    },
    {
      "cell_type": "code",
      "metadata": {
        "id": "TN8maGkqTPJk"
      },
      "source": [
        "def isUni(s):\n",
        "  for i in range(0, len(s)):\n",
        "    for j in range(i+1, len(s)):\n",
        "      if s[i] == s[j]:\n",
        "        return False\n",
        "  return True\n",
        "\n",
        "\n"
      ],
      "execution_count": null,
      "outputs": []
    },
    {
      "cell_type": "code",
      "metadata": {
        "colab": {
          "base_uri": "https://localhost:8080/"
        },
        "id": "5IxzOzvtTRbg",
        "outputId": "def405f4-f7f0-4a43-d8e1-8a6da85fcf1d"
      },
      "source": [
        "s = \"abcdefghijklma\"\n",
        "\n",
        "isUni(s)"
      ],
      "execution_count": null,
      "outputs": [
        {
          "output_type": "execute_result",
          "data": {
            "text/plain": [
              "False"
            ]
          },
          "metadata": {
            "tags": []
          },
          "execution_count": 36
        }
      ]
    },
    {
      "cell_type": "markdown",
      "metadata": {
        "id": "OtC-aoh0ks8Y"
      },
      "source": [
        "### **Better than previous one:**\n",
        "\n",
        "**Time Complexity : O(n logn)** as it is Sorting"
      ]
    },
    {
      "cell_type": "code",
      "metadata": {
        "id": "Tqkd_-f3TRdK"
      },
      "source": [
        "def isUni1(s):\n",
        "  s = sorted(s)\n",
        "  print(s)\n",
        "  for i in range(0, len(s)-1):\n",
        "    if s[i] == s[i+1]:\n",
        "      return False\n",
        "  return True"
      ],
      "execution_count": null,
      "outputs": []
    },
    {
      "cell_type": "markdown",
      "metadata": {
        "id": "hpzggCgMoxWU"
      },
      "source": [
        ""
      ]
    },
    {
      "cell_type": "code",
      "metadata": {
        "colab": {
          "base_uri": "https://localhost:8080/"
        },
        "id": "nSibLp1GlSKP",
        "outputId": "492a3ac3-214a-4194-fa23-d6e0d85ed114"
      },
      "source": [
        "s = \"abcdefghijklma\"\n",
        "isUni1(s)"
      ],
      "execution_count": null,
      "outputs": [
        {
          "output_type": "stream",
          "text": [
            "['a', 'a', 'b', 'c', 'd', 'e', 'f', 'g', 'h', 'i', 'j', 'k', 'l', 'm']\n"
          ],
          "name": "stdout"
        },
        {
          "output_type": "execute_result",
          "data": {
            "text/plain": [
              "False"
            ]
          },
          "metadata": {
            "tags": []
          },
          "execution_count": 47
        }
      ]
    }
  ]
}