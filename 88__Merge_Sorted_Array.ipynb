{
  "nbformat": 4,
  "nbformat_minor": 0,
  "metadata": {
    "colab": {
      "name": "88._Merge_Sorted_Array.ipynb",
      "provenance": [],
      "authorship_tag": "ABX9TyOmmcQwgE3QWJQ04ZYA+irN",
      "include_colab_link": true
    },
    "kernelspec": {
      "name": "python3",
      "display_name": "Python 3"
    }
  },
  "cells": [
    {
      "cell_type": "markdown",
      "metadata": {
        "id": "view-in-github",
        "colab_type": "text"
      },
      "source": [
        "<a href=\"https://colab.research.google.com/github/sunandasuchi/Practice_Problems/blob/main/88__Merge_Sorted_Array.ipynb\" target=\"_parent\"><img src=\"https://colab.research.google.com/assets/colab-badge.svg\" alt=\"Open In Colab\"/></a>"
      ]
    },
    {
      "cell_type": "markdown",
      "metadata": {
        "id": "kgxPlOYkZ-WW"
      },
      "source": [
        "### **88. Merge Sorted Array**\r\n",
        "### 2 sorted list will be given. List1 will have extra space for merging List2\r\n",
        "### Example:\r\n",
        "#### n1 = [0]\r\n",
        "#### m = 0\r\n",
        "#### n2 = [1]\r\n",
        "#### n = 1\r\n",
        "#### m + n = len(n1)"
      ]
    },
    {
      "cell_type": "markdown",
      "metadata": {
        "id": "JQW1RcorZmR8"
      },
      "source": [
        "### Using 2 while loop"
      ]
    },
    {
      "cell_type": "code",
      "metadata": {
        "id": "jPSzouz9Kxni"
      },
      "source": [
        "class Solution(object):\r\n",
        "    def merge(self, nums1, m, nums2, n):\r\n",
        "        \"\"\"\r\n",
        "        :type nums1: List[int]\r\n",
        "        :type m: int\r\n",
        "        :type nums2: List[int]\r\n",
        "        :type n: int\r\n",
        "        :rtype: None Do not return anything, modify nums1 in-place instead.\r\n",
        "        \"\"\"\r\n",
        "        while m>0 and n>0:\r\n",
        "          if nums1[m-1] >nums2[n-1]:\r\n",
        "            nums1[m+n-1] = nums1[m-1]\r\n",
        "            m-=1\r\n",
        "          else:\r\n",
        "            nums1[m+n-1] = nums2[n-1]\r\n",
        "            n -=1\r\n",
        "\r\n",
        "        while n>0:\r\n",
        "          nums1[m+n-1] = nums2[n-1]\r\n",
        "          n -= 1            \r\n",
        "        \r\n",
        "\r\n",
        "        "
      ],
      "execution_count": 37,
      "outputs": []
    },
    {
      "cell_type": "code",
      "metadata": {
        "colab": {
          "base_uri": "https://localhost:8080/"
        },
        "id": "qJIJx_fHK2sw",
        "outputId": "823a7ce8-946e-4278-d5b2-aff878f8352a"
      },
      "source": [
        "nums1 = [1,2,3,0,0,0]\r\n",
        "a = Solution()\r\n",
        "a.merge(nums1, 3, [2,5,6], 3)\r\n",
        "\r\n",
        "nums1"
      ],
      "execution_count": 43,
      "outputs": [
        {
          "output_type": "execute_result",
          "data": {
            "text/plain": [
              "[1, 2, 2, 3, 5, 6]"
            ]
          },
          "metadata": {
            "tags": []
          },
          "execution_count": 43
        }
      ]
    },
    {
      "cell_type": "markdown",
      "metadata": {
        "id": "-RQYrpO7at2u"
      },
      "source": [
        "### Using 1 while loop\r\n",
        "#### **Time Complexity: O(m+n)**"
      ]
    },
    {
      "cell_type": "code",
      "metadata": {
        "id": "AAhuwHBSMkSQ"
      },
      "source": [
        "class Solution(object):\r\n",
        "    def merge(self, nums1, m, nums2, n):\r\n",
        "        \"\"\"\r\n",
        "        :type nums1: List[int]\r\n",
        "        :type m: int\r\n",
        "        :type nums2: List[int]\r\n",
        "        :type n: int\r\n",
        "        :rtype: None Do not return anything, modify nums1 in-place instead.\r\n",
        "        \"\"\"\r\n",
        "        while (m+n-1) >= 0:\r\n",
        "          if ((n-1) < 0 ) or ( (m-1 >= 0) and (nums1[m-1] >nums2[n-1]) ):\r\n",
        "            nums1[m+n-1] = nums1[m-1]\r\n",
        "            m-=1\r\n",
        "          else:\r\n",
        "            nums1[m+n-1] = nums2[n-1]\r\n",
        "            n -=1\r\n",
        "\r\n",
        "        "
      ],
      "execution_count": 44,
      "outputs": []
    },
    {
      "cell_type": "code",
      "metadata": {
        "colab": {
          "base_uri": "https://localhost:8080/"
        },
        "id": "4KqD3TB0NioH",
        "outputId": "4e2b6481-dff7-467a-bdfd-2dc8cfa58357"
      },
      "source": [
        "nums1 = [1,2,3,0,0,0]\r\n",
        "a = Solution()\r\n",
        "a.merge(nums1, 3, [2,5,6], 3)\r\n",
        "\r\n",
        "nums1"
      ],
      "execution_count": 45,
      "outputs": [
        {
          "output_type": "execute_result",
          "data": {
            "text/plain": [
              "[1, 2, 2, 3, 5, 6]"
            ]
          },
          "metadata": {
            "tags": []
          },
          "execution_count": 45
        }
      ]
    }
  ]
}