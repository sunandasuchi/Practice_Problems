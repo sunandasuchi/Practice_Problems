{
  "nbformat": 4,
  "nbformat_minor": 0,
  "metadata": {
    "colab": {
      "name": "88._Merge_Sorted_Array.ipynb",
      "provenance": [],
      "authorship_tag": "ABX9TyNzMBvlXbzX6ptsRoNXEEMH",
      "include_colab_link": true
    },
    "kernelspec": {
      "name": "python3",
      "display_name": "Python 3"
    }
  },
  "cells": [
    {
      "cell_type": "markdown",
      "metadata": {
        "id": "view-in-github",
        "colab_type": "text"
      },
      "source": [
        "<a href=\"https://colab.research.google.com/github/sunandasuchi/Practice_Problems/blob/main/88__Merge_Sorted_Array.ipynb\" target=\"_parent\"><img src=\"https://colab.research.google.com/assets/colab-badge.svg\" alt=\"Open In Colab\"/></a>"
      ]
    },
    {
      "cell_type": "markdown",
      "metadata": {
        "id": "kgxPlOYkZ-WW"
      },
      "source": [
        "### **88. Merge Sorted Array**\r\n",
        "### 2 sorted list will be given. List1 will have extra space for merging List2\r\n",
        "### Example:\r\n",
        "#### n1 = [0]\r\n",
        "#### m = 0\r\n",
        "#### n2 = [1]\r\n",
        "#### n = 1\r\n",
        "#### m + n = len(n1)"
      ]
    },
    {
      "cell_type": "markdown",
      "metadata": {
        "id": "JQW1RcorZmR8"
      },
      "source": [
        "### Using 2 while loop"
      ]
    },
    {
      "cell_type": "code",
      "metadata": {
        "id": "jPSzouz9Kxni"
      },
      "source": [
        "def merge( nums1, m, nums2, n):\r\n",
        "        \r\n",
        "        while m>0 and n>0:\r\n",
        "          if nums1[m-1] >nums2[n-1]:\r\n",
        "            nums1[m+n-1] = nums1[m-1]\r\n",
        "            m-=1\r\n",
        "          else:\r\n",
        "            nums1[m+n-1] = nums2[n-1]\r\n",
        "            n -=1\r\n",
        "\r\n",
        "        while n>0:\r\n",
        "          nums1[m+n-1] = nums2[n-1]\r\n",
        "          n -= 1            \r\n",
        "        \r\n",
        "\r\n",
        "        "
      ],
      "execution_count": 46,
      "outputs": []
    },
    {
      "cell_type": "code",
      "metadata": {
        "colab": {
          "base_uri": "https://localhost:8080/"
        },
        "id": "qJIJx_fHK2sw",
        "outputId": "e4bbf3ba-e35e-4f7b-e3b3-807a9542cf9b"
      },
      "source": [
        "nums1 = [1,2,3,0,0,0]\r\n",
        "merge(nums1, 3, [2,5,6], 3)\r\n",
        "\r\n",
        "nums1"
      ],
      "execution_count": 47,
      "outputs": [
        {
          "output_type": "execute_result",
          "data": {
            "text/plain": [
              "[1, 2, 2, 3, 5, 6]"
            ]
          },
          "metadata": {
            "tags": []
          },
          "execution_count": 47
        }
      ]
    },
    {
      "cell_type": "markdown",
      "metadata": {
        "id": "-RQYrpO7at2u"
      },
      "source": [
        "### Using 1 while loop\r\n",
        "#### **Time Complexity: O(m+n)**"
      ]
    },
    {
      "cell_type": "code",
      "metadata": {
        "id": "AAhuwHBSMkSQ"
      },
      "source": [
        "def merge( nums1, m, nums2, n):\r\n",
        " \r\n",
        "        while (m+n-1) >= 0:\r\n",
        "          if ((n-1) < 0 ) or ( (m-1 >= 0) and (nums1[m-1] >nums2[n-1]) ):\r\n",
        "            nums1[m+n-1] = nums1[m-1]\r\n",
        "            m-=1\r\n",
        "          else:\r\n",
        "            nums1[m+n-1] = nums2[n-1]\r\n",
        "            n -=1\r\n",
        "\r\n",
        "        "
      ],
      "execution_count": 49,
      "outputs": []
    },
    {
      "cell_type": "code",
      "metadata": {
        "colab": {
          "base_uri": "https://localhost:8080/"
        },
        "id": "4KqD3TB0NioH",
        "outputId": "c4c09530-20f4-4450-fc35-d2c78619a0a2"
      },
      "source": [
        "nums1 = [0]\r\n",
        "merge(nums1, 0, [1], 1)\r\n",
        "\r\n",
        "nums1"
      ],
      "execution_count": 51,
      "outputs": [
        {
          "output_type": "execute_result",
          "data": {
            "text/plain": [
              "[1]"
            ]
          },
          "metadata": {
            "tags": []
          },
          "execution_count": 51
        }
      ]
    }
  ]
}