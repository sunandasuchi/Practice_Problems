{
  "nbformat": 4,
  "nbformat_minor": 0,
  "metadata": {
    "colab": {
      "name": "Untitled6.ipynb",
      "provenance": [],
      "authorship_tag": "ABX9TyOEn08MmO2w4k/crolUPlky",
      "include_colab_link": true
    },
    "kernelspec": {
      "name": "python3",
      "display_name": "Python 3"
    }
  },
  "cells": [
    {
      "cell_type": "markdown",
      "metadata": {
        "id": "view-in-github",
        "colab_type": "text"
      },
      "source": [
        "<a href=\"https://colab.research.google.com/github/sunandasuchi/Practice_Problems/blob/main/Untitled6.ipynb\" target=\"_parent\"><img src=\"https://colab.research.google.com/assets/colab-badge.svg\" alt=\"Open In Colab\"/></a>"
      ]
    },
    {
      "cell_type": "markdown",
      "metadata": {
        "id": "_CgCDcVxdxmW"
      },
      "source": [
        "## **14. Longest Common Prefix**\r\n",
        "Time Complexity: O(n)\r\n",
        "Space Complexity: O(1)"
      ]
    },
    {
      "cell_type": "markdown",
      "metadata": {
        "id": "gBmgUDiDeJLw"
      },
      "source": [
        "### **Using ZIP**"
      ]
    },
    {
      "cell_type": "code",
      "metadata": {
        "colab": {
          "base_uri": "https://localhost:8080/"
        },
        "id": "oaZDvfklNKlC",
        "outputId": "8faeac0c-8490-48fe-c12a-6934af90d4f0"
      },
      "source": [
        "strs = [\"flower\",\"flew\",\"flight\"]\r\n",
        "l = list(zip(*strs))\r\n",
        "print(\"l =\", l)\r\n",
        "pre = \"\"\r\n",
        "\r\n",
        "for i in l:\r\n",
        "  if len(set(i)) == 1:\r\n",
        "    pre += i[0]\r\n",
        "  else:\r\n",
        "    break\r\n",
        "\r\n",
        "print('\\nLongest prefix: ', pre)"
      ],
      "execution_count": 20,
      "outputs": [
        {
          "output_type": "stream",
          "text": [
            "l = [('f', 'f', 'f'), ('l', 'l', 'l'), ('o', 'e', 'i'), ('w', 'w', 'g')]\n",
            "\n",
            "Longest prefix:  fl\n"
          ],
          "name": "stdout"
        }
      ]
    },
    {
      "cell_type": "markdown",
      "metadata": {
        "id": "3mF-UizEeNQs"
      },
      "source": [
        "### **Using StartsWith()**"
      ]
    },
    {
      "cell_type": "code",
      "metadata": {
        "colab": {
          "base_uri": "https://localhost:8080/"
        },
        "id": "NS-2U9Y2Qhnz",
        "outputId": "61098398-9556-41f2-8567-42e31718ec7a"
      },
      "source": [
        "strs = [\"flower\", \"flowe124424354\",\"flowght\", \"flojghghbhgvbhjbjh\", \"flhvhgvyvytyvvgvb\"]\r\n",
        "\r\n",
        "if not strs:\r\n",
        "  print(\"   nothing  \")\r\n",
        "  #break\r\n",
        "pre = strs[0]\r\n",
        "for i in strs:\r\n",
        "  print(\"i in for\",i)\r\n",
        "  while not i.startswith(pre):\r\n",
        "    print(\"i in while\", i)\r\n",
        "    pre = pre[:-1]\r\n",
        "    print(\"pre\", pre)\r\n",
        "\r\n",
        "print(\"Final pre:\", pre)"
      ],
      "execution_count": 38,
      "outputs": [
        {
          "output_type": "stream",
          "text": [
            "i in for flower\n",
            "i in for flowe124424354\n",
            "i in while flowe124424354\n",
            "pre flowe\n",
            "i in for flowght\n",
            "i in while flowght\n",
            "pre flow\n",
            "i in for flojghghbhgvbhjbjh\n",
            "i in while flojghghbhgvbhjbjh\n",
            "pre flo\n",
            "i in for flhvhgvyvytyvvgvb\n",
            "i in while flhvhgvyvytyvvgvb\n",
            "pre fl\n",
            "Final pre: fl\n"
          ],
          "name": "stdout"
        }
      ]
    }
  ]
}