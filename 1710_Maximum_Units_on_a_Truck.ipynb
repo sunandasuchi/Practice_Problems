{
  "nbformat": 4,
  "nbformat_minor": 0,
  "metadata": {
    "colab": {
      "name": "1710_Maximum_Units_on_a_Truck.ipynb",
      "provenance": [],
      "authorship_tag": "ABX9TyNLnRX2XC4CMNCnA9nSyw9J",
      "include_colab_link": true
    },
    "kernelspec": {
      "name": "python3",
      "display_name": "Python 3"
    }
  },
  "cells": [
    {
      "cell_type": "markdown",
      "metadata": {
        "id": "view-in-github",
        "colab_type": "text"
      },
      "source": [
        "<a href=\"https://colab.research.google.com/github/sunandasuchi/Practice_Problems/blob/main/1710_Maximum_Units_on_a_Truck.ipynb\" target=\"_parent\"><img src=\"https://colab.research.google.com/assets/colab-badge.svg\" alt=\"Open In Colab\"/></a>"
      ]
    },
    {
      "cell_type": "markdown",
      "metadata": {
        "id": "bxPPfDa_S43j"
      },
      "source": [
        "## **1710. Maximum Units on a Truck**\r\n"
      ]
    },
    {
      "cell_type": "markdown",
      "metadata": {
        "id": "D4edSLlIS8uC"
      },
      "source": [
        "Input: boxTypes = [[1,3],[2,2],[3,1]], truckSize = 4\r\n",
        "Output: 8\r\n",
        "Explanation: There are:\r\n",
        "- 1 box of the first type that contains 3 units.\r\n",
        "- 2 boxes of the second type that contain 2 units each.\r\n",
        "- 3 boxes of the third type that contain 1 unit each.\r\n",
        "You can take all the boxes of the first and second types, and one box of the third type.\r\n",
        "The total number of units will be = (1 * 3) + (2 * 2) + (1 * 1) = 8."
      ]
    },
    {
      "cell_type": "code",
      "metadata": {
        "id": "9qNCxR_0S2Rh"
      },
      "source": [
        "\r\n",
        "def maximumUnits(boxTypes, truckSize):\r\n",
        "        \r\n",
        "        boxTypes.sort(key=lambda x: x[1], reverse = True)\r\n",
        "        maxUnits = 0\r\n",
        "        if truckSize == 0:\r\n",
        "            return maxUnits\r\n",
        "        else:\r\n",
        "            for types in boxTypes:\r\n",
        "                if types[0] < truckSize:\r\n",
        "                    maxUnits =  maxUnits + (types[0] * types[1])\r\n",
        "                    truckSize = truckSize - types[0]\r\n",
        "                elif types[0] >= truckSize:\r\n",
        "                    maxUnits= maxUnits + (truckSize * types[1])\r\n",
        "                    return maxUnits\r\n",
        "                if truckSize==0:\r\n",
        "                    return maxUnits\r\n",
        "            return maxUnits"
      ],
      "execution_count": 1,
      "outputs": []
    },
    {
      "cell_type": "code",
      "metadata": {
        "colab": {
          "base_uri": "https://localhost:8080/"
        },
        "id": "sWugOnyrTS0J",
        "outputId": "55e8c43e-db4f-44a5-b23c-820dec398338"
      },
      "source": [
        "boxTypes =[[5,10],[2,5],[4,7],[3,9]]\r\n",
        "\r\n",
        "truckSize = 10\r\n",
        "print(maximumUnits(boxTypes, truckSize))"
      ],
      "execution_count": 2,
      "outputs": [
        {
          "output_type": "stream",
          "text": [
            "91\n"
          ],
          "name": "stdout"
        }
      ]
    }
  ]
}