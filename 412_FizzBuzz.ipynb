{
  "nbformat": 4,
  "nbformat_minor": 0,
  "metadata": {
    "colab": {
      "name": "412_FizzBuzz.ipynb",
      "provenance": [],
      "authorship_tag": "ABX9TyOaW0WtwwdlPxYvagNCnm5s",
      "include_colab_link": true
    },
    "kernelspec": {
      "name": "python3",
      "display_name": "Python 3"
    }
  },
  "cells": [
    {
      "cell_type": "markdown",
      "metadata": {
        "id": "view-in-github",
        "colab_type": "text"
      },
      "source": [
        "<a href=\"https://colab.research.google.com/github/sunandasuchi/Practice_Problems/blob/main/412_FizzBuzz.ipynb\" target=\"_parent\"><img src=\"https://colab.research.google.com/assets/colab-badge.svg\" alt=\"Open In Colab\"/></a>"
      ]
    },
    {
      "cell_type": "markdown",
      "metadata": {
        "id": "ICQuCnpzTbfx"
      },
      "source": [
        "### 412. Fizz Buzz\r\n",
        "##### It has only 1 for loop and the loop runs until n.\r\n",
        "#### **Time Complexity: O(n)**"
      ]
    },
    {
      "cell_type": "code",
      "metadata": {
        "id": "Mt9hgdvETXJh"
      },
      "source": [
        "def fizzBuzz(n):\r\n",
        "  arr = []\r\n",
        "  \r\n",
        "  for i in range(1, n+1):\r\n",
        "            if i%3 == 0:\r\n",
        "                if i%5 ==0:\r\n",
        "                    arr.append(\"Fizz Buzz\")\r\n",
        "                else:\r\n",
        "                    arr.append(\"Fizz\")\r\n",
        "            elif i%5 == 0:\r\n",
        "                if i%3 ==0:\r\n",
        "                    arr.append(\"Fizz Buzz\")\r\n",
        "                else:\r\n",
        "                    arr.append(\"Buzz\")\r\n",
        "            else:\r\n",
        "                arr.append(str(i)) \r\n",
        "  return arr"
      ],
      "execution_count": 1,
      "outputs": []
    },
    {
      "cell_type": "code",
      "metadata": {
        "colab": {
          "base_uri": "https://localhost:8080/"
        },
        "id": "EDbgUP3EThoO",
        "outputId": "72a7701e-a9d1-49ac-800c-e721f820c673"
      },
      "source": [
        "fizzBuzz(15)"
      ],
      "execution_count": 2,
      "outputs": [
        {
          "output_type": "execute_result",
          "data": {
            "text/plain": [
              "['1',\n",
              " '2',\n",
              " 'Fizz',\n",
              " '4',\n",
              " 'Buzz',\n",
              " 'Fizz',\n",
              " '7',\n",
              " '8',\n",
              " 'Fizz',\n",
              " 'Buzz',\n",
              " '11',\n",
              " 'Fizz',\n",
              " '13',\n",
              " '14',\n",
              " 'Fizz Buzz']"
            ]
          },
          "metadata": {
            "tags": []
          },
          "execution_count": 2
        }
      ]
    }
  ]
}