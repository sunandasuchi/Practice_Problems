{
  "nbformat": 4,
  "nbformat_minor": 0,
  "metadata": {
    "colab": {
      "name": "21.Merge_Two_Sorted_LinkLists.ipynb",
      "provenance": [],
      "authorship_tag": "ABX9TyP07J+QRx6tUMFpfWiVQR/u",
      "include_colab_link": true
    },
    "kernelspec": {
      "name": "python3",
      "display_name": "Python 3"
    }
  },
  "cells": [
    {
      "cell_type": "markdown",
      "metadata": {
        "id": "view-in-github",
        "colab_type": "text"
      },
      "source": [
        "<a href=\"https://colab.research.google.com/github/sunandasuchi/Practice_Problems/blob/main/21_Merge_Two_Sorted_LinkLists.ipynb\" target=\"_parent\"><img src=\"https://colab.research.google.com/assets/colab-badge.svg\" alt=\"Open In Colab\"/></a>"
      ]
    },
    {
      "cell_type": "markdown",
      "metadata": {
        "id": "PxqtoLyVYUxV"
      },
      "source": [
        "## **21. Merge Two Sorted Lists**\r\n"
      ]
    },
    {
      "cell_type": "code",
      "metadata": {
        "id": "FG6lncS4ULuz"
      },
      "source": [
        "class Node:\r\n",
        "  def __init__(self, val):\r\n",
        "    self.val = val\r\n",
        "    self.next = None\r\n"
      ],
      "execution_count": 7,
      "outputs": []
    },
    {
      "cell_type": "code",
      "metadata": {
        "id": "JZ3P2kqoVz2v"
      },
      "source": [
        "class Solution:\r\n",
        "  def merge(self,l1,l2):\r\n",
        "    if l1 ==None:\r\n",
        "      return l2\r\n",
        "    if l2 ==None:\r\n",
        "      return l1\r\n",
        "    if l1.val<= l2.val:\r\n",
        "      l1.next = merge(l1.next, l2)\r\n",
        "      return l1\r\n",
        "    else:\r\n",
        "      l2.next = merge(l1, l2.next)\r\n",
        "      return l2"
      ],
      "execution_count": 10,
      "outputs": []
    },
    {
      "cell_type": "code",
      "metadata": {
        "colab": {
          "base_uri": "https://localhost:8080/"
        },
        "id": "wPutK9HSWciM",
        "outputId": "c06deed9-800a-4f6f-f81c-d093123b881a"
      },
      "source": [
        "def make_list(arr):\r\n",
        "    head = Node(arr[0])\r\n",
        "    for i  in arr[1:]:\r\n",
        "      a = head\r\n",
        "      while a.next != None:\r\n",
        "        a = a.next\r\n",
        "      a.next = Node(i)\r\n",
        "    return head\r\n",
        "\r\n",
        "\r\n",
        "def print_list(arr3):\r\n",
        "  current = arr3\r\n",
        "  while current != None:\r\n",
        "    print(current.val, end= \"  \")\r\n",
        "    current = current.next\r\n",
        "\r\n",
        "\r\n",
        "\r\n",
        "arr1 =make_list([1,2,4,7])\r\n",
        "arr2 = make_list([1,3,4,5,6,8])\r\n",
        "\r\n",
        "a3 = Solution()\r\n",
        "arr3 = a3.merge(arr1, arr2)\r\n",
        "\r\n",
        "print_list(arr3)\r\n"
      ],
      "execution_count": 13,
      "outputs": [
        {
          "output_type": "stream",
          "text": [
            "1  1  2  3  4  4  5  6  7  8  "
          ],
          "name": "stdout"
        }
      ]
    }
  ]
}