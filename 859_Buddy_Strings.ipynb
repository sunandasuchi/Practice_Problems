{
  "nbformat": 4,
  "nbformat_minor": 0,
  "metadata": {
    "colab": {
      "name": "859_Buddy_Strings.ipynb",
      "provenance": [],
      "authorship_tag": "ABX9TyOazE1rOORIRLpmhCXc7T+Z",
      "include_colab_link": true
    },
    "kernelspec": {
      "name": "python3",
      "display_name": "Python 3"
    }
  },
  "cells": [
    {
      "cell_type": "markdown",
      "metadata": {
        "id": "view-in-github",
        "colab_type": "text"
      },
      "source": [
        "<a href=\"https://colab.research.google.com/github/sunandasuchi/Practice_Problems/blob/main/859_Buddy_Strings.ipynb\" target=\"_parent\"><img src=\"https://colab.research.google.com/assets/colab-badge.svg\" alt=\"Open In Colab\"/></a>"
      ]
    },
    {
      "cell_type": "markdown",
      "metadata": {
        "id": "5Uqv9G1cZ04M"
      },
      "source": [
        "## ***859. Buddy Strings***"
      ]
    },
    {
      "cell_type": "markdown",
      "metadata": {
        "id": "Z5VAgihwZ17u"
      },
      "source": [
        "Given two strings A and B of lowercase letters, return true if you can swap two letters in A so the result is equal to B, otherwise, return false.\r\n",
        "\r\n",
        "Swapping letters is defined as taking two indices i and j (0-indexed) such that i != j and swapping the characters at A[i] and A[j]. For example, swapping at indices 0 and 2 in \"abcd\" results in \"cbad\".\r\n",
        "\r\n",
        " "
      ]
    },
    {
      "cell_type": "markdown",
      "metadata": {
        "id": "YxZENlRhZ3rU"
      },
      "source": [
        "**Example 1:**\r\n",
        "\r\n",
        "Input: A = \"ab\", B = \"ba\"\r\n",
        "Output: true\r\n",
        "Explanation: You can swap A[0] = 'a' and A[1] = 'b' to get \"ba\", which is equal to B.\r\n",
        "\r\n",
        "**Example 2:**\r\n",
        "\r\n",
        "Input: A = \"ab\", B = \"ab\"\r\n",
        "Output: false\r\n",
        "Explanation: The only letters you can swap are A[0] = 'a' and A[1] = 'b', which results in \"ba\" != B.\r\n",
        "\r\n",
        "**Example 3:**\r\n",
        "\r\n",
        "Input: A = \"aa\", B = \"aa\"\r\n",
        "Output: true\r\n",
        "Explanation: You can swap A[0] = 'a' and A[1] = 'a' to get \"aa\", which is equal to B.\r\n",
        "\r\n",
        "**Example 4:**\r\n",
        "\r\n",
        "Input: A = \"aaaaaaabc\", B = \"aaaaaaacb\"\r\n",
        "Output: true\r\n",
        "\r\n",
        "**Example 5:**\r\n",
        "\r\n",
        "Input: A = \"\", B = \"aa\"\r\n",
        "Output: false\r\n"
      ]
    },
    {
      "cell_type": "code",
      "metadata": {
        "id": "bslPpc45ZzF5"
      },
      "source": [
        "def buddyString(A,B):\r\n",
        "  if len(A) != len(B) or len(A)< 2:\r\n",
        "    return False\r\n",
        "\r\n",
        "  c = []\r\n",
        "\r\n",
        "  for i in range(0, len(A)):\r\n",
        "    if A[i] != B[i]:\r\n",
        "      c.append(A[i])\r\n",
        "      c.append(B[i])\r\n",
        "\r\n",
        "  if A == B:\r\n",
        "    c.append(A[0])\r\n",
        "    for i in range(1, len(A)):\r\n",
        "      if A[i] in c:\r\n",
        "        return True\r\n",
        "      else:\r\n",
        "        c.append(A[i])\r\n",
        "    return False\r\n",
        "\r\n",
        "  if len(c) ==4 and c[0] == c[3] and c[1] == c[2]:\r\n",
        "    return True\r\n",
        "  return False\r\n",
        "  "
      ],
      "execution_count": 2,
      "outputs": []
    },
    {
      "cell_type": "code",
      "metadata": {
        "colab": {
          "base_uri": "https://localhost:8080/"
        },
        "id": "wkxGDDsyaz96",
        "outputId": "eee5e7ee-dba3-4ec2-f690-ff209fb7132a"
      },
      "source": [
        "print(buddyString(\"aaaaaaaaaaaaaaaaaacb\", \"aaaaaaaaaaaaaaaaacab\"))"
      ],
      "execution_count": 7,
      "outputs": [
        {
          "output_type": "stream",
          "text": [
            "True\n"
          ],
          "name": "stdout"
        }
      ]
    }
  ]
}