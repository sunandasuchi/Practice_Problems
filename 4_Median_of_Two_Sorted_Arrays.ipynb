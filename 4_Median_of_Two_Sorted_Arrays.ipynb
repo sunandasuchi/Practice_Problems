{
  "nbformat": 4,
  "nbformat_minor": 0,
  "metadata": {
    "colab": {
      "name": "4.Median_of_Two_Sorted_Arrays.ipynb",
      "provenance": [],
      "authorship_tag": "ABX9TyNp/XuitdJZSjrpaKPEttUg",
      "include_colab_link": true
    },
    "kernelspec": {
      "name": "python3",
      "display_name": "Python 3"
    }
  },
  "cells": [
    {
      "cell_type": "markdown",
      "metadata": {
        "id": "view-in-github",
        "colab_type": "text"
      },
      "source": [
        "<a href=\"https://colab.research.google.com/github/sunandasuchi/Practice_Problems/blob/main/4_Median_of_Two_Sorted_Arrays.ipynb\" target=\"_parent\"><img src=\"https://colab.research.google.com/assets/colab-badge.svg\" alt=\"Open In Colab\"/></a>"
      ]
    },
    {
      "cell_type": "markdown",
      "metadata": {
        "id": "Fn8EnpFIi4AX"
      },
      "source": [
        "### **4. Median of Two Sorted Arrays**\r\n"
      ]
    },
    {
      "cell_type": "markdown",
      "metadata": {
        "id": "KwfUF_MBjJq0"
      },
      "source": [
        "#### Here the time complexity : **O(m+n)**\r\n",
        "#####  * m is the length of nums1 and n is the length of nums2"
      ]
    },
    {
      "cell_type": "code",
      "metadata": {
        "colab": {
          "base_uri": "https://localhost:8080/"
        },
        "id": "WNRIIsTVcML5",
        "outputId": "07461993-c853-4304-8196-61154de899ce"
      },
      "source": [
        "nums1 = [1,2]\r\n",
        "nums2 = [3,4]\r\n",
        "\r\n",
        "n1 = 0\r\n",
        "n2 = 0\r\n",
        "res = []\r\n",
        "\r\n",
        "while n1 < len(nums1) and n2 < len(nums2):\r\n",
        "            if nums1[n1] < nums2[n2]:\r\n",
        "                res.append(nums1[n1])\r\n",
        "                n1 += 1\r\n",
        "            else:\r\n",
        "                res.append(nums2[n2])\r\n",
        "                n2 += 1\r\n",
        "while n1 < len(nums1):\r\n",
        "            res.append(nums1[n1])\r\n",
        "            n1+=1\r\n",
        "            \r\n",
        "while n2 < len(nums2):\r\n",
        "            res.append(nums2[n2])\r\n",
        "            n2+=1\r\n",
        "        #res += nums1[n1:]+ nums2[n2:]\r\n",
        "\r\n",
        "print(res)       \r\n",
        "if len(res)% 2 == 0:\r\n",
        "            print(float((res[len(res)//2] + res[(len(res)//2)-1]) / 2.0))\r\n",
        "else:  \r\n",
        "            print( float(res[len(res)//2]))\r\n"
      ],
      "execution_count": 10,
      "outputs": [
        {
          "output_type": "stream",
          "text": [
            "[1, 2, 3, 4]\n",
            "2.5\n"
          ],
          "name": "stdout"
        }
      ]
    }
  ]
}