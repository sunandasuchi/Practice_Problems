{
  "nbformat": 4,
  "nbformat_minor": 0,
  "metadata": {
    "colab": {
      "name": "28_Implement_strStr().ipynb",
      "provenance": [],
      "authorship_tag": "ABX9TyMBMB2n+dX4hjfrtQ0w7J3W",
      "include_colab_link": true
    },
    "kernelspec": {
      "name": "python3",
      "display_name": "Python 3"
    }
  },
  "cells": [
    {
      "cell_type": "markdown",
      "metadata": {
        "id": "view-in-github",
        "colab_type": "text"
      },
      "source": [
        "<a href=\"https://colab.research.google.com/github/sunandasuchi/Practice_Problems/blob/main/28_Implement_strStr().ipynb\" target=\"_parent\"><img src=\"https://colab.research.google.com/assets/colab-badge.svg\" alt=\"Open In Colab\"/></a>"
      ]
    },
    {
      "cell_type": "markdown",
      "metadata": {
        "id": "X8S75OLY_TBL"
      },
      "source": [
        "## **28. Implement strStr()**\r\n",
        "\r\n",
        "**Time Complexity: O(n)**\r\n",
        "\r\n",
        "***Space Complexity: O(1)***\r\n"
      ]
    },
    {
      "cell_type": "markdown",
      "metadata": {
        "id": "46iFxkJO_aW-"
      },
      "source": [
        "Implement strStr().\r\n",
        "\r\n",
        "Return the index of the first occurrence of needle in haystack, or -1 if needle is not part of haystack.\r\n",
        "\r\n",
        "**Clarification:**\r\n",
        "\r\n",
        "What should we return when needle is an empty string? This is a great question to ask during an interview.\r\n",
        "\r\n",
        "For the purpose of this problem, we will return 0 when needle is an empty string. This is consistent to C's strstr() and Java's indexOf().\r\n",
        "\r\n",
        " \r\n",
        "\r\n",
        "**Example 1:**\r\n",
        "\r\n",
        "Input: haystack = \"hello\", needle = \"ll\"\r\n",
        "Output: 2\r\n",
        "\r\n",
        "**Example 2:**\r\n",
        "\r\n",
        "Input: haystack = \"aaaaa\", needle = \"bba\"\r\n",
        "Output: -1\r\n",
        "\r\n",
        "**Example 3:**\r\n",
        "\r\n",
        "Input: haystack = \"\", needle = \"\"\r\n",
        "Output: 0"
      ]
    },
    {
      "cell_type": "code",
      "metadata": {
        "id": "ftqfKjhN_OTo"
      },
      "source": [
        "def strStr(hst, ndl):\r\n",
        "  if ndl == \" \":\r\n",
        "    return 0\r\n",
        "  elif ndl in hst: # Time complexity of k in x = O(1)\r\n",
        "    return hst.index(ndl) # Time Complexity of x.index(k) = O(n) for average cases\r\n",
        "  else:\r\n",
        "    return -1\r\n"
      ],
      "execution_count": 3,
      "outputs": []
    },
    {
      "cell_type": "code",
      "metadata": {
        "colab": {
          "base_uri": "https://localhost:8080/"
        },
        "id": "8bj_7IUdAK42",
        "outputId": "e0f64ff7-70ad-48db-9889-e858520d7da0"
      },
      "source": [
        "print(strStr(\"hennnnnndvdvndnvnfjgvnjvnjlloncjdnjnjnjnjnjnjvnjdnv\", \"ll\"))"
      ],
      "execution_count": 7,
      "outputs": [
        {
          "output_type": "stream",
          "text": [
            "-1\n"
          ],
          "name": "stdout"
        }
      ]
    }
  ]
}